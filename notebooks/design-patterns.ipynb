{
 "cells": [
  {
   "cell_type": "code",
   "execution_count": 5,
   "metadata": {},
   "outputs": [
    {
     "data": {
      "text/html": [
       "\n",
       "                <script type=\"application/javascript\" id=\"jupyter_black\">\n",
       "                (function() {\n",
       "                    if (window.IPython === undefined) {\n",
       "                        return\n",
       "                    }\n",
       "                    var msg = \"WARNING: it looks like you might have loaded \" +\n",
       "                        \"jupyter_black in a non-lab notebook with \" +\n",
       "                        \"`is_lab=True`. Please double check, and if \" +\n",
       "                        \"loading with `%load_ext` please review the README!\"\n",
       "                    console.log(msg)\n",
       "                    alert(msg)\n",
       "                })()\n",
       "                </script>\n",
       "                "
      ],
      "text/plain": [
       "<IPython.core.display.HTML object>"
      ]
     },
     "metadata": {},
     "output_type": "display_data"
    }
   ],
   "source": [
    "%load_ext swagpy.jupyter"
   ]
  },
  {
   "cell_type": "code",
   "execution_count": 36,
   "metadata": {},
   "outputs": [
    {
     "data": {
      "text/plain": [
       "<function C.count(value, /)>"
      ]
     },
     "execution_count": 36,
     "metadata": {},
     "output_type": "execute_result"
    }
   ],
   "source": [
    "from collections import namedtuple\n",
    "from functools import wraps\n",
    "from dataclasses import dataclass\n",
    "from typing import TypeVar\n",
    "T = TypeVar(\"T\")\n",
    "\n",
    "def get_members(cls: type):\n",
    "    return {k: v for k, v in vars(cls).items() if not k.startswith(\"__\")}\n",
    "\n",
    "\n",
    "def frozen_singleton(cls: type[T]) -> T:\n",
    "    members = get_members(cls)\n",
    "    return namedtuple(cls.__name__, members.keys())(**members)\n",
    "\n",
    "\n",
    "@frozen_singleton\n",
    "class C:\n",
    "    a = 1\n",
    "\n",
    "\n",
    "C.a"
   ]
  },
  {
   "cell_type": "code",
   "execution_count": 22,
   "metadata": {},
   "outputs": [],
   "source": [
    "import numpy as np\n",
    "import pandas as pd\n",
    "\n",
    "TOOO_SLOW = 100\n",
    "idx = pd.IndexSlice\n",
    "random = np.random.randint\n",
    "lindex = lambda x1, x2, s, n: pd.Index(np.linspace(x1, x2, s, dtype=np.float32), name=n)\n",
    "\n",
    "\n",
    "def make_gs(x1, y1, x2, y2, x_size, y_size):\n",
    "\n",
    "    col = lindex(x1, x2, x_size, \"lon\")\n",
    "    ndx = lindex(y1, y2, y_size, \"lat\")\n",
    "    grd = (\n",
    "        pd.DataFrame(columns=col, index=ndx).unstack(\"lat\").reset_index().dropna(axis=1)\n",
    "    )\n",
    "    grd[\"wv\"] = random(0, 255, size=len(grd))\n",
    "    grd[\"ir\"] = random(0, 255, size=len(grd))\n",
    "    return grd.set_index([\"lat\", \"lon\"]).sort_index(level=[\"lat\", \"lon\"])\n",
    "\n",
    "\n",
    "min_diff = lambda t, v: t[np.argmin(abs(t[:, np.newaxis] - v), axis=0)]\n",
    "\n",
    "\n",
    "def main():\n",
    "    # GRIDSPACE\n",
    "    gs = make_gs(-129, 54, -60, 20, x_size=972, y_size=635)\n",
    "    lat, lon = (gs.index.unique(crd).to_numpy() for crd in (\"lat\", \"lon\"))\n",
    "\n",
    "    # FEATURES\n",
    "    n_features = 76_020\n",
    "    f = pd.DataFrame(\n",
    "        [\n",
    "            {\"minx\": -126, \"maxx\": -68, \"miny\": 37, \"maxy\": 39},\n",
    "            {\"minx\": -91, \"maxx\": -70, \"miny\": 31, \"maxy\": 37},\n",
    "            {\"minx\": -124, \"maxx\": -64, \"miny\": 24, \"maxy\": 26},\n",
    "        ]\n",
    "        * (n_features // 3)\n",
    "    )\n",
    "\n",
    "    params = [(lon, \"minx\"), (lon, \"maxx\"), (lat, \"miny\"), (lat, \"maxy\")]\n",
    "    arr = np.array([min_diff(a, f[col].to_numpy()) for a, col in params]).T\n",
    "    result = [gs.loc[idx[x1:x2, y1:y2, :]] for x1, x2, y1, y2 in arr[:TOOO_SLOW]]\n",
    "    # How can this loop be vectorized\n",
    "    return result\n",
    "\n",
    "\n",
    "if __name__ == \"__main__\":\n",
    "    main()"
   ]
  }
 ],
 "metadata": {
  "kernelspec": {
   "display_name": "Python 3.10.4 ('venv')",
   "language": "python",
   "name": "python3"
  },
  "language_info": {
   "codemirror_mode": {
    "name": "ipython",
    "version": 3
   },
   "file_extension": ".py",
   "mimetype": "text/x-python",
   "name": "python",
   "nbconvert_exporter": "python",
   "pygments_lexer": "ipython3",
   "version": "3.10.6"
  },
  "orig_nbformat": 4,
  "vscode": {
   "interpreter": {
    "hash": "23393d2575091a37cff0d0e9e7479591a295495b26c3b2ebf9b64da572e02d85"
   }
  }
 },
 "nbformat": 4,
 "nbformat_minor": 2
}
