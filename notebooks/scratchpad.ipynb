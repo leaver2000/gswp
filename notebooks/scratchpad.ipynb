{
 "cells": [
  {
   "cell_type": "code",
   "execution_count": 1,
   "metadata": {},
   "outputs": [
    {
     "data": {
      "text/html": [
       "\n",
       "                <script type=\"application/javascript\" id=\"jupyter_black\">\n",
       "                (function() {\n",
       "                    if (window.IPython === undefined) {\n",
       "                        return\n",
       "                    }\n",
       "                    var msg = \"WARNING: it looks like you might have loaded \" +\n",
       "                        \"jupyter_black in a non-lab notebook with \" +\n",
       "                        \"`is_lab=True`. Please double check, and if \" +\n",
       "                        \"loading with `%load_ext` please review the README!\"\n",
       "                    console.log(msg)\n",
       "                    alert(msg)\n",
       "                })()\n",
       "                </script>\n",
       "                "
      ],
      "text/plain": [
       "<IPython.core.display.HTML object>"
      ]
     },
     "metadata": {},
     "output_type": "display_data"
    }
   ],
   "source": [
    "%load_ext nbextension\n",
    "from datetime import datetime\n",
    "\n",
    "import numpy as np\n",
    "import pandas as pd\n",
    "import xarray as xr\n",
    "import dask\n",
    "import dask.array as da\n",
    "import dask.dataframe as dd\n"
   ]
  },
  {
   "cell_type": "code",
   "execution_count": 31,
   "metadata": {},
   "outputs": [],
   "source": [
    "from __future__ import annotations\n",
    "from typing import (\n",
    "    Generic,\n",
    "    Protocol,\n",
    "    ParamSpec,\n",
    "    Callable,\n",
    "    NewType,\n",
    "    TypeVar,\n",
    "    Tuple,\n",
    "    Sequence,\n",
    ")\n",
    "from typing_extensions import TypeVarTuple\n",
    "from numpy.typing import NDArray\n",
    "\n"
   ]
  },
  {
   "cell_type": "code",
   "execution_count": 21,
   "metadata": {},
   "outputs": [
    {
     "name": "stdout",
     "output_type": "stream",
     "text": [
      "1\n"
     ]
    },
    {
     "data": {
      "text/plain": [
       "FROZEN[FS]:\n",
       "  a:tuple = (1, 2, 3, 5, 5, 6)\n",
       "  b:int = 112323\n",
       "  c:str = World\n",
       "  one() -> NoneType\n",
       "  two(hello:Optional) -> int\n",
       "  three() -> Any\n",
       "  get_sunder_a() -> Any"
      ]
     },
     "execution_count": 21,
     "metadata": {},
     "output_type": "execute_result"
    }
   ],
   "source": [
    "from collections import namedtuple\n",
    "from typing import Callable, Iterable, NamedTuple, get_args, get_origin, get_type_hints\n",
    "\n",
    "from gswp.typing import Self\n",
    "\n",
    "\n",
    "def _get_members(cls: type):\n",
    "    def callback(func: Callable):\n",
    "        return lambda *args, **kwargs: func(cls, *args, **kwargs)\n",
    "\n",
    "    for key, value in vars(cls).items():\n",
    "        if key.startswith(\"_\"):\n",
    "            continue\n",
    "        if isinstance(value, Callable):\n",
    "            value = callback(value)\n",
    "        yield key, value\n",
    "\n",
    "\n",
    "def _repr_members(cls: type) -> Iterable:\n",
    "    for key, value in vars(cls).items():\n",
    "        if key.startswith(\"_\"):\n",
    "            continue\n",
    "        if isinstance(value, Callable):\n",
    "            hints = get_type_hints(value)\n",
    "\n",
    "            return_value = hints.pop(\"return\", None)\n",
    "            args = \", \".join(f\"{k}:{v.__name__}\" for k, v in hints.items())\n",
    "            yield f'{key}({args}) -> {return_value.__name__ if return_value else \"Any\"}'\n",
    "\n",
    "        else:\n",
    "            yield f\"{key}:{type(value).__name__} = {value}\"\n",
    "\n",
    "\n",
    "def frozen_singleton(cls: type[Self]) -> Self:\n",
    "    members = dict(_get_members(cls))\n",
    "    class _SINGLETON(namedtuple(cls.__name__, members.keys())):\n",
    "        __name__ = cls.__name__\n",
    "\n",
    "        def __repr__(self) -> str:\n",
    "            props = \"\\n  \".join(_repr_members(cls))\n",
    "            return f\"FROZEN[{cls.__name__}]:\\n  {props}\"\n",
    "\n",
    "    return _SINGLETON(**members)\n",
    "\n",
    "\n",
    "@frozen_singleton\n",
    "class FS:\n",
    "    a = 1, 2, 3, 5, 5, 6\n",
    "    b = 112323\n",
    "    c = \"World\"\n",
    "\n",
    "    def one(self) -> None:\n",
    "        ...\n",
    "\n",
    "    def two(self, hello: str = None) -> int:\n",
    "        ...\n",
    "\n",
    "    def three(self):\n",
    "        ...\n",
    "\n",
    "    @classmethod\n",
    "    def __a(self): \n",
    "        return 1\n",
    "        \n",
    "    def get_sunder_a(self):\n",
    "        return self.__a()\n",
    "\n",
    "\n",
    "print(FS.get_sunder_a())\n",
    "FS"
   ]
  }
 ],
 "metadata": {
  "kernelspec": {
   "display_name": "Python 3.10.6 ('venv')",
   "language": "python",
   "name": "python3"
  },
  "language_info": {
   "codemirror_mode": {
    "name": "ipython",
    "version": 3
   },
   "file_extension": ".py",
   "mimetype": "text/x-python",
   "name": "python",
   "nbconvert_exporter": "python",
   "pygments_lexer": "ipython3",
   "version": "3.10.6"
  },
  "orig_nbformat": 4,
  "vscode": {
   "interpreter": {
    "hash": "23393d2575091a37cff0d0e9e7479591a295495b26c3b2ebf9b64da572e02d85"
   }
  }
 },
 "nbformat": 4,
 "nbformat_minor": 2
}
