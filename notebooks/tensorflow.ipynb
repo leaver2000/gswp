{
 "cells": [
  {
   "cell_type": "code",
   "execution_count": null,
   "metadata": {},
   "outputs": [],
   "source": [
    "%reload_ext gswp.jupyter\n",
    "from pathlib import Path\n",
    "\n",
    "import numpy as np\n",
    "import pandas as pd\n",
    "import xarray as xr\n",
    "\n",
    "from sklearn.naive_bayes import GaussianNB\n",
    "import tensorflow as tf\n",
    "\n",
    "from gswp.constants import STORE, PROBSEVERE as PS, GMGSI\n",
    "\n",
    "\n",
    "print(\n",
    "    [\n",
    "        tf.config.experimental.get_device_details(gpu)\n",
    "        for gpu in tf.config.list_physical_devices(\"GPU\")\n",
    "    ]\n",
    ")"
   ]
  },
  {
   "cell_type": "code",
   "execution_count": null,
   "metadata": {},
   "outputs": [],
   "source": [
    "features = (\n",
    "    PS.load()  # .to_dataframe()\n",
    "    # .rename(columns={\"MINX\": \"minx\", \"MINY\": \"miny\", \"MAXX\": \"maxx\", \"MAXY\": \"maxy\"})\n",
    ")\n",
    "features"
   ]
  },
  {
   "cell_type": "code",
   "execution_count": null,
   "metadata": {},
   "outputs": [],
   "source": [
    "gmgsi = GMGSI.load()\n",
    "gmgsi"
   ]
  },
  {
   "cell_type": "code",
   "execution_count": null,
   "metadata": {},
   "outputs": [],
   "source": [
    "from typing import Generic, NewType, TypeVar\n",
    "from gswp.constants import MRMS_BOUNDS\n",
    "\n",
    "\n",
    "W, E, S, N = MRMS_BOUNDS\n",
    "_1D = NewType(\"1d\", tuple)\n",
    "_2D = NewType(\"2d\", tuple)\n",
    "\n",
    "\n",
    "def load_and_filter() -> pd.DataFrame:\n",
    "    gmgsi = GMGSI.load()\n",
    "    lat, lon = gmgsi[\"lat\"].to_numpy(), gmgsi[\"lon\"].to_numpy()\n",
    "    lat = lat[(lat > S) & (lat < N)]\n",
    "    lon = lon[(lon > W) & (lon < E)]\n",
    "    return gmgsi.sel({\"lat\": lat, \"lon\": lon})\n",
    "\n",
    "\n",
    "def min_diff(\n",
    "    target: np.ndarray[_1D, np.floating], values: np.ndarray[_1D, np.floating]\n",
    ") -> np.ndarray[_1D, np.unsignedinteger]:\n",
    "    diff = abs(target[:, np.newaxis] - values)\n",
    "    index = np.argmin(diff, axis=0)\n",
    "    return index\n",
    "\n",
    "\n",
    "gmgsi = load_and_filter()\n",
    "lat, lon = (np.unique(gmgsi[crd]) for crd in (\"lat\", \"lon\"))\n",
    "gmgsi"
   ]
  },
  {
   "cell_type": "code",
   "execution_count": null,
   "metadata": {},
   "outputs": [],
   "source": [
    "min_lon = min_diff(lon, features.minx.to_numpy())\n",
    "max_lon = min_diff(lon, features.maxx.to_numpy())\n",
    "min_lat = min_diff(lat, features.miny.to_numpy())\n",
    "max_lat = min_diff(lat, features.maxy.to_numpy())"
   ]
  },
  {
   "cell_type": "code",
   "execution_count": null,
   "metadata": {},
   "outputs": [],
   "source": [
    "# NOTE:  NOT CORRECT!!! the times are not aligned\n",
    "data = gmgsi.set_index([\"lat\", \"lon\"], append=True).unstack(\"lon\")\n",
    "\n",
    "\n",
    "def extract(arr):\n",
    "    return [\n",
    "        arr[..., x1:x2, y1:y2]\n",
    "        for x1, x2, y1, y2 in np.c_[min_lat, max_lat, min_lon, max_lon]\n",
    "    ]\n",
    "\n",
    "\n",
    "arr = np.array(\n",
    "    [\n",
    "        data[\"GMGSI_LW\"].to_numpy(),\n",
    "        data[\"GMGSI_SW\"].to_numpy(),\n",
    "        data[\"GMGSI_WV\"].to_numpy(),\n",
    "    ]\n",
    ")\n",
    "\n",
    "\n",
    "features[\"observations\"] = extract(arr)\n",
    "\n",
    "\n",
    "features"
   ]
  },
  {
   "cell_type": "code",
   "execution_count": null,
   "metadata": {},
   "outputs": [],
   "source": [
    "np.array(\n",
    "    [\n",
    "        data[\"GMGSI_LW\"].unstack(\"lon\").to_numpy(),\n",
    "        data[\"GMGSI_SW\"].unstack(\"lon\").to_numpy(),\n",
    "        data[\"GMGSI_WV\"].unstack(\"lon\").to_numpy(),\n",
    "    ]\n",
    ").shape"
   ]
  },
  {
   "cell_type": "code",
   "execution_count": null,
   "metadata": {},
   "outputs": [],
   "source": [
    "import matplotlib.pyplot as plt\n",
    "\n",
    "components = [\n",
    "    \"CAPE_M10M30\",\n",
    "    \"EBSHEAR\",\n",
    "    \"FLASH_DENSITY\",\n",
    "    \"FLASH_RATE\",\n",
    "    \"LJA\",\n",
    "    \"MAXLLAZ\",\n",
    "    \"MEANWIND_1-3kmAGL\",\n",
    "    \"MESH\",\n",
    "    \"MLCAPE\",\n",
    "    \"MLCIN\",\n",
    "    \"MUCAPE\",\n",
    "    \"P98LLAZ\",\n",
    "    \"P98MLAZ\",\n",
    "    \"PS\",\n",
    "    \"PWAT\",\n",
    "    # \"SIZE\",\n",
    "    \"SRH01KM\",\n",
    "    \"VIL_DENSITY\",\n",
    "    \"WETBULB_0C_HGT\",\n",
    "]\n",
    "\n",
    "for label, s in (\n",
    "    features[features[\"PS\"] > 60]\n",
    "    .sort_values(\"SIZE\", ascending=False)\n",
    "    .head(20)\n",
    "    .iterrows()\n",
    "):\n",
    "    extent = s[[\"minx\", \"maxx\", \"miny\", \"maxy\"]].to_list()\n",
    "    fig, ((ax1, ax2), (ax3, ax4)) = plt.subplots(nrows=2, ncols=2, figsize=(18, 5))\n",
    "    #\n",
    "    storm_id = s[\"ID\"]\n",
    "    ax1.set_title(f\"{storm_id=} longwave\")\n",
    "    ax1.imshow(s[\"longwave\"], extent=extent)\n",
    "    #\n",
    "    ax2.set_title(f\"{storm_id=} shortwave\")\n",
    "    ax2.imshow(s[\"shortwave\"], extent=extent)\n",
    "    #\n",
    "    ax3.set_title(f\"{storm_id=} shortwave\")\n",
    "    ax3.imshow(s[\"watervapor\"], extent=extent)\n",
    "    #\n",
    "    s[components].plot.bar(ax=ax4)"
   ]
  }
 ],
 "metadata": {
  "kernelspec": {
   "display_name": "Python 3.10.4 ('venv')",
   "language": "python",
   "name": "python3"
  },
  "language_info": {
   "codemirror_mode": {
    "name": "ipython",
    "version": 3
   },
   "file_extension": ".py",
   "mimetype": "text/x-python",
   "name": "python",
   "nbconvert_exporter": "python",
   "pygments_lexer": "ipython3",
   "version": "3.10.6"
  },
  "orig_nbformat": 4,
  "vscode": {
   "interpreter": {
    "hash": "23393d2575091a37cff0d0e9e7479591a295495b26c3b2ebf9b64da572e02d85"
   }
  }
 },
 "nbformat": 4,
 "nbformat_minor": 2
}
